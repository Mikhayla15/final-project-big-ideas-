{
 "cells": [
  {
   "cell_type": "markdown",
   "metadata": {},
   "source": [
    "## INTRODUCTION\n"
   ]
  },
  {
   "cell_type": "markdown",
   "metadata": {},
   "source": [
    "My name is Aaron Amodu and for this project our goal was to identify the safest neighborhood in Pittsburgh to reside in. I conducted a process that relied on police and arrest data as the foundation for my metric. Im using this metric to provide a clear understanding of safety levels across neighborhoods. The alternative metric I considered was utilizing Facebook community complaints but then I realized the potential for this approach would give me broad results that wouldnt really correspond with deciding wether or not it was a safe neigborhood or not.\n",
    "\n",
    "\n",
    "\n"
   ]
  },
  {
   "cell_type": "markdown",
   "metadata": {},
   "source": [
    "## METRIC"
   ]
  },
  {
   "cell_type": "markdown",
   "metadata": {},
   "source": [
    "My metric I used is pittsburgh police arrest data. I examined the frequency of reported crimes and the locations where the most arrests occurred. By analyzing this data, I was able to identify the neighborhoods with the lowest crime rates which provided insights into safety levels within each area. The dataset I used  consisted of records of police arrests , their information and the location of where it happened."
   ]
  },
  {
   "cell_type": "markdown",
   "metadata": {},
   "source": [
    "## BEST NEIGBORHOOD"
   ]
  },
  {
   "cell_type": "code",
   "execution_count": 8,
   "metadata": {},
   "outputs": [
    {
     "data": {
      "text/html": [
       "<div>\n",
       "<style scoped>\n",
       "    .dataframe tbody tr th:only-of-type {\n",
       "        vertical-align: middle;\n",
       "    }\n",
       "\n",
       "    .dataframe tbody tr th {\n",
       "        vertical-align: top;\n",
       "    }\n",
       "\n",
       "    .dataframe thead th {\n",
       "        text-align: right;\n",
       "    }\n",
       "</style>\n",
       "<table border=\"1\" class=\"dataframe\">\n",
       "  <thead>\n",
       "    <tr style=\"text-align: right;\">\n",
       "      <th></th>\n",
       "      <th>_id</th>\n",
       "      <th>PK</th>\n",
       "      <th>CCR</th>\n",
       "      <th>AGE</th>\n",
       "      <th>GENDER</th>\n",
       "      <th>RACE</th>\n",
       "      <th>ARRESTTIME</th>\n",
       "      <th>ARRESTLOCATION</th>\n",
       "      <th>OFFENSES</th>\n",
       "      <th>INCIDENTLOCATION</th>\n",
       "      <th>INCIDENTNEIGHBORHOOD</th>\n",
       "      <th>INCIDENTZONE</th>\n",
       "      <th>INCIDENTTRACT</th>\n",
       "      <th>COUNCIL_DISTRICT</th>\n",
       "      <th>PUBLIC_WORKS_DIVISION</th>\n",
       "      <th>X</th>\n",
       "      <th>Y</th>\n",
       "    </tr>\n",
       "  </thead>\n",
       "  <tbody>\n",
       "    <tr>\n",
       "      <th>0</th>\n",
       "      <td>1</td>\n",
       "      <td>1975272</td>\n",
       "      <td>16158872</td>\n",
       "      <td>42.0</td>\n",
       "      <td>F</td>\n",
       "      <td>B</td>\n",
       "      <td>2016-08-24T12:20:00</td>\n",
       "      <td>4700 Block Centre AV Pittsburgh, PA 15213</td>\n",
       "      <td>3929 Retail Theft.</td>\n",
       "      <td>4700 Block Centre AV Pittsburgh, PA 15213</td>\n",
       "      <td>Bloomfield</td>\n",
       "      <td>5</td>\n",
       "      <td>804.0</td>\n",
       "      <td>8.0</td>\n",
       "      <td>2.0</td>\n",
       "      <td>-79.949277</td>\n",
       "      <td>40.452551</td>\n",
       "    </tr>\n",
       "    <tr>\n",
       "      <th>1</th>\n",
       "      <td>2</td>\n",
       "      <td>1974456</td>\n",
       "      <td>16144120</td>\n",
       "      <td>31.0</td>\n",
       "      <td>M</td>\n",
       "      <td>W</td>\n",
       "      <td>2016-08-03T14:55:00</td>\n",
       "      <td>4200 Block Steubenville PKE Pittsburgh, PA 15205</td>\n",
       "      <td>13(a)(16) Possession of Controlled Substance</td>\n",
       "      <td>4200 Block Steubenville PKE Pittsburgh, PA 15205</td>\n",
       "      <td>Outside City</td>\n",
       "      <td>OSC</td>\n",
       "      <td>5599.0</td>\n",
       "      <td>NaN</td>\n",
       "      <td>NaN</td>\n",
       "      <td>-80.088018</td>\n",
       "      <td>40.440136</td>\n",
       "    </tr>\n",
       "    <tr>\n",
       "      <th>2</th>\n",
       "      <td>3</td>\n",
       "      <td>1974466</td>\n",
       "      <td>16144165</td>\n",
       "      <td>63.0</td>\n",
       "      <td>F</td>\n",
       "      <td>B</td>\n",
       "      <td>2016-08-03T16:45:00</td>\n",
       "      <td>900 Block Freeport RD Fox Chapel, PA 15238</td>\n",
       "      <td>3929 Retail Theft.</td>\n",
       "      <td>900 Block Freeport RD Fox Chapel, PA 15238</td>\n",
       "      <td>Westwood</td>\n",
       "      <td>5</td>\n",
       "      <td>2811.0</td>\n",
       "      <td>9.0</td>\n",
       "      <td>2.0</td>\n",
       "      <td>-79.891803</td>\n",
       "      <td>40.486625</td>\n",
       "    </tr>\n",
       "    <tr>\n",
       "      <th>3</th>\n",
       "      <td>4</td>\n",
       "      <td>1974550</td>\n",
       "      <td>16145257</td>\n",
       "      <td>25.0</td>\n",
       "      <td>F</td>\n",
       "      <td>W</td>\n",
       "      <td>2016-08-05T02:36:00</td>\n",
       "      <td>Foreland ST &amp; Cedar AV Pittsburgh, PA 15212</td>\n",
       "      <td>5503 Disorderly Conduct. / 5505 Public Drunken...</td>\n",
       "      <td>Foreland ST &amp; Cedar AV Pittsburgh, PA 15212</td>\n",
       "      <td>East Allegheny</td>\n",
       "      <td>1</td>\n",
       "      <td>2304.0</td>\n",
       "      <td>1.0</td>\n",
       "      <td>1.0</td>\n",
       "      <td>-80.001939</td>\n",
       "      <td>40.454080</td>\n",
       "    </tr>\n",
       "    <tr>\n",
       "      <th>4</th>\n",
       "      <td>5</td>\n",
       "      <td>1974596</td>\n",
       "      <td>16145962</td>\n",
       "      <td>25.0</td>\n",
       "      <td>M</td>\n",
       "      <td>B</td>\n",
       "      <td>2016-08-06T02:00:00</td>\n",
       "      <td>900 Block Woodlow ST Pittsburgh, PA 15205</td>\n",
       "      <td>2702 Aggravated Assault. / 2705 Recklessy Enda...</td>\n",
       "      <td>900 Block Woodlow ST Pittsburgh, PA 15205</td>\n",
       "      <td>Crafton Heights</td>\n",
       "      <td>5</td>\n",
       "      <td>2814.0</td>\n",
       "      <td>2.0</td>\n",
       "      <td>5.0</td>\n",
       "      <td>-80.052204</td>\n",
       "      <td>40.445900</td>\n",
       "    </tr>\n",
       "  </tbody>\n",
       "</table>\n",
       "</div>"
      ],
      "text/plain": [
       "   _id       PK       CCR   AGE GENDER RACE           ARRESTTIME  \\\n",
       "0    1  1975272  16158872  42.0      F    B  2016-08-24T12:20:00   \n",
       "1    2  1974456  16144120  31.0      M    W  2016-08-03T14:55:00   \n",
       "2    3  1974466  16144165  63.0      F    B  2016-08-03T16:45:00   \n",
       "3    4  1974550  16145257  25.0      F    W  2016-08-05T02:36:00   \n",
       "4    5  1974596  16145962  25.0      M    B  2016-08-06T02:00:00   \n",
       "\n",
       "                                     ARRESTLOCATION  \\\n",
       "0         4700 Block Centre AV Pittsburgh, PA 15213   \n",
       "1  4200 Block Steubenville PKE Pittsburgh, PA 15205   \n",
       "2        900 Block Freeport RD Fox Chapel, PA 15238   \n",
       "3       Foreland ST & Cedar AV Pittsburgh, PA 15212   \n",
       "4         900 Block Woodlow ST Pittsburgh, PA 15205   \n",
       "\n",
       "                                            OFFENSES  \\\n",
       "0                                 3929 Retail Theft.   \n",
       "1       13(a)(16) Possession of Controlled Substance   \n",
       "2                                 3929 Retail Theft.   \n",
       "3  5503 Disorderly Conduct. / 5505 Public Drunken...   \n",
       "4  2702 Aggravated Assault. / 2705 Recklessy Enda...   \n",
       "\n",
       "                                   INCIDENTLOCATION INCIDENTNEIGHBORHOOD  \\\n",
       "0         4700 Block Centre AV Pittsburgh, PA 15213           Bloomfield   \n",
       "1  4200 Block Steubenville PKE Pittsburgh, PA 15205         Outside City   \n",
       "2        900 Block Freeport RD Fox Chapel, PA 15238             Westwood   \n",
       "3       Foreland ST & Cedar AV Pittsburgh, PA 15212       East Allegheny   \n",
       "4         900 Block Woodlow ST Pittsburgh, PA 15205      Crafton Heights   \n",
       "\n",
       "  INCIDENTZONE  INCIDENTTRACT  COUNCIL_DISTRICT  PUBLIC_WORKS_DIVISION  \\\n",
       "0            5          804.0               8.0                    2.0   \n",
       "1          OSC         5599.0               NaN                    NaN   \n",
       "2            5         2811.0               9.0                    2.0   \n",
       "3            1         2304.0               1.0                    1.0   \n",
       "4            5         2814.0               2.0                    5.0   \n",
       "\n",
       "           X          Y  \n",
       "0 -79.949277  40.452551  \n",
       "1 -80.088018  40.440136  \n",
       "2 -79.891803  40.486625  \n",
       "3 -80.001939  40.454080  \n",
       "4 -80.052204  40.445900  "
      ]
     },
     "execution_count": 8,
     "metadata": {},
     "output_type": "execute_result"
    }
   ],
   "source": [
    "import pandas as pd\n",
    "\n",
    "Dataset = pd.read_csv('Dataset.csv')\n",
    "\n",
    "Dataset.head()"
   ]
  },
  {
   "cell_type": "markdown",
   "metadata": {},
   "source": [
    "For this dataset it shows Pittsburgh Police Arrest Data and categorizes the inmates by city , gender , race and allows you to see the time they got arrested and where they got arrested. I will be using this data to pinpoint the location they got arrested to reveal what neigborhood has the most crime."
   ]
  },
  {
   "cell_type": "code",
   "execution_count": 1,
   "metadata": {},
   "outputs": [
    {
     "data": {
      "image/png": "[encoded data removed]",
      "text/plain": [
       "<Figure size 576x432 with 1 Axes>"
      ]
     },
     "metadata": {
      "needs_background": "light"
     },
     "output_type": "display_data"
    }
   ],
   "source": [
    "\n",
    "import pandas as pd\n",
    "import matplotlib.pyplot as plt\n",
    "\n",
    "%matplotlib inline\n",
    "\n",
    "dataset = pd.read_csv('Dataset.csv')\n",
    "\n",
    "\n",
    "neighborhood_counts = dataset['INCIDENTNEIGHBORHOOD'].value_counts().sort_values() \n",
    "\n",
    "\n",
    "top_5_least_arrests = neighborhood_counts.head(5)\n",
    "\n",
    "plt.figure(figsize=(8, 6))\n",
    "\n",
    "top_5_least_arrests.plot(kind='bar')\n",
    "plt.title('Top 5 Locations with Least Amount of Arrests in Pittsburgh')\n",
    "plt.xlabel('Neighborhood')\n",
    "plt.ylabel('Number of Arrests')\n",
    "plt.xticks(rotation=45) # Rotating x-axis labels for better readability\n",
    "\n",
    "\n",
    "plt.show()\n"
   ]
  },
  {
   "cell_type": "markdown",
   "metadata": {},
   "source": [
    "This code looks at a dataset of arrests in Pittsburgh and focuses on where these arrests happens the least. I used Pandas to grab the data and Matplotlib for visualization and creating the bar graph."
   ]
  },
  {
   "cell_type": "code",
   "execution_count": 23,
   "metadata": {},
   "outputs": [
    {
     "name": "stdout",
     "output_type": "stream",
     "text": [
      "   _id       PK       CCR   AGE GENDER RACE           ARRESTTIME  \\\n",
      "0    1  1975272  16158872  42.0      F    B  2016-08-24T12:20:00   \n",
      "1    2  1974456  16144120  31.0      M    W  2016-08-03T14:55:00   \n",
      "2    3  1974466  16144165  63.0      F    B  2016-08-03T16:45:00   \n",
      "3    4  1974550  16145257  25.0      F    W  2016-08-05T02:36:00   \n",
      "4    5  1974596  16145962  25.0      M    B  2016-08-06T02:00:00   \n",
      "\n",
      "                                     ARRESTLOCATION  \\\n",
      "0         4700 Block Centre AV Pittsburgh, PA 15213   \n",
      "1  4200 Block Steubenville PKE Pittsburgh, PA 15205   \n",
      "2        900 Block Freeport RD Fox Chapel, PA 15238   \n",
      "3       Foreland ST & Cedar AV Pittsburgh, PA 15212   \n",
      "4         900 Block Woodlow ST Pittsburgh, PA 15205   \n",
      "\n",
      "                                            OFFENSES  \\\n",
      "0                                 3929 Retail Theft.   \n",
      "1       13(a)(16) Possession of Controlled Substance   \n",
      "2                                 3929 Retail Theft.   \n",
      "3  5503 Disorderly Conduct. / 5505 Public Drunken...   \n",
      "4  2702 Aggravated Assault. / 2705 Recklessy Enda...   \n",
      "\n",
      "                                   INCIDENTLOCATION INCIDENTNEIGHBORHOOD  \\\n",
      "0         4700 Block Centre AV Pittsburgh, PA 15213           Bloomfield   \n",
      "1  4200 Block Steubenville PKE Pittsburgh, PA 15205         Outside City   \n",
      "2        900 Block Freeport RD Fox Chapel, PA 15238             Westwood   \n",
      "3       Foreland ST & Cedar AV Pittsburgh, PA 15212       East Allegheny   \n",
      "4         900 Block Woodlow ST Pittsburgh, PA 15205      Crafton Heights   \n",
      "\n",
      "  INCIDENTZONE  INCIDENTTRACT  COUNCIL_DISTRICT  PUBLIC_WORKS_DIVISION  \\\n",
      "0            5          804.0               8.0                    2.0   \n",
      "1          OSC         5599.0               NaN                    NaN   \n",
      "2            5         2811.0               9.0                    2.0   \n",
      "3            1         2304.0               1.0                    1.0   \n",
      "4            5         2814.0               2.0                    5.0   \n",
      "\n",
      "           X          Y  \n",
      "0 -79.949277  40.452551  \n",
      "1 -80.088018  40.440136  \n",
      "2 -79.891803  40.486625  \n",
      "3 -80.001939  40.454080  \n",
      "4 -80.052204  40.445900  \n",
      "The best location in Pittsburgh with the least arrests is:\n",
      "Mt. Oliver Neighborhood\n",
      "Number of arrests in this location: 2\n"
     ]
    }
   ],
   "source": [
    "import pandas as pd\n",
    "\n",
    "\n",
    "arrests_data = pd.read_csv('Dataset.csv')\n",
    "\n",
    "\n",
    "print(arrests_data.head())\n",
    "\n",
    "\n",
    "\n",
    "arrests_by_location = arrests_data.groupby(['INCIDENTNEIGHBORHOOD']).size().reset_index(name='Arrests')\n",
    "\n",
    "\n",
    "sorted_locations = arrests_by_location.sort_values(by='Arrests')\n",
    "\n",
    "\n",
    "best_location = sorted_locations.iloc[0]\n",
    "print(\"The best location in Pittsburgh with the least arrests is:\")\n",
    "print(best_location['INCIDENTNEIGHBORHOOD'])\n",
    "\n",
    "print(\"Number of arrests in this location:\", best_location['Arrests'])"
   ]
  },
  {
   "cell_type": "markdown",
   "metadata": {},
   "source": [
    " First I imported the pandas library then it reads a CSV file named 'Dataset.csv' into a pandas DataFrame called arrests_data'. The next line prints out the first few rows of the DataFrame to show what the data looks like. After that, it groups the data by the incident neighborhoods, counts the number of arrests in each neighborhood, and sorts them in order based on the number of arrests. Finally, it prints out the neighborhood with the least number of arrests."
   ]
  },
  {
   "cell_type": "markdown",
   "metadata": {},
   "source": [
    "## CONCLUSION"
   ]
  },
  {
   "cell_type": "markdown",
   "metadata": {},
   "source": [
    "When it comes to determining the \"best neighborhood\", relying on data can paint a different picture compared to personal experiences. When I started looking at the data using tools like pandas and matplotlib I was able to examining arrest records and create graphs that led me to realize that Mt. Oliver stands out as the safest neighborhood with the fewest arrests. Im not from pittsburgh so i didnt have a guess on what the safest neigborhood was beforehand but after analyzing the data im confident that Mt. Oliver is."
   ]
  },
  {
   "cell_type": "code",
   "execution_count": null,
   "metadata": {},
   "outputs": [],
   "source": []
  }
 ],
 "metadata": {
  "kernelspec": {
   "display_name": "Python 3",
   "language": "python",
   "name": "python3"
  },
  "language_info": {
   "codemirror_mode": {
    "name": "ipython",
    "version": 3
   },
   "file_extension": ".py",
   "mimetype": "text/x-python",
   "name": "python",
   "nbconvert_exporter": "python",
   "pygments_lexer": "ipython3",
   "version": "3.8.3"
  }
 },
 "nbformat": 4,
 "nbformat_minor": 4
}
